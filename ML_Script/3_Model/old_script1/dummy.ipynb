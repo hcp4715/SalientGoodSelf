{
 "cells": [
  {
   "cell_type": "code",
   "execution_count": 1,
   "metadata": {},
   "outputs": [],
   "source": [
    "from utils import *\n",
    "import os"
   ]
  },
  {
   "cell_type": "code",
   "execution_count": 2,
   "metadata": {},
   "outputs": [
    {
     "data": {
      "text/plain": [
       "'/root/autodl-tmp/ML_Script/3_Model'"
      ]
     },
     "execution_count": 2,
     "metadata": {},
     "output_type": "execute_result"
    }
   ],
   "source": [
    "os.getcwd()"
   ]
  },
  {
   "cell_type": "code",
   "execution_count": 3,
   "metadata": {},
   "outputs": [],
   "source": [
    "os.chdir(\"../2_Data\")"
   ]
  },
  {
   "cell_type": "code",
   "execution_count": 4,
   "metadata": {},
   "outputs": [],
   "source": [
    "df_no = pd.read_csv(\"No_self.csv\")\n",
    "df_ex = pd.read_csv(\"Explicit_self.csv\")\n",
    "df_im = pd.read_csv(\"Implicit_self.csv\")\n",
    "df_exp5 = pd.read_csv(\"Exp5_all.csv\")"
   ]
  },
  {
   "cell_type": "code",
   "execution_count": 5,
   "metadata": {},
   "outputs": [],
   "source": [
    "df_Exp1a = df_no[df_no.ExpNo == \"Exp1a\"]\n",
    "df_Exp1b = df_no[df_no.ExpNo == \"Exp1b\"]\n",
    "df_Exp1c = df_no[df_no.ExpNo == \"Exp1c\"]\n",
    "df_Exp5_Morality = df_exp5.query('taskType == \"Morality\"')\n",
    "df_Exp5_Emotion = df_exp5.query('taskType == \"Emotion\"')\n",
    "df_Exp5_Person = df_exp5.query('taskType == \"Person\"')\n",
    "df_Exp5_Scene = df_exp5.query('taskType == \"Scene\"')\n",
    "\n",
    "df_Exp3a_other =df_ex.query('(ExpNo == \"Exp3a\") & (Identity == \"Other\")')\n",
    "df_Exp3a_self = df_ex.query('(ExpNo == \"Exp3a\") & (Identity == \"Self\")')\n",
    "\n",
    "df_Exp3b_other = df_ex.query('(ExpNo == \"Exp3b\") & (Identity == \"Other\")')\n",
    "df_Exp3b_self = df_ex.query('(ExpNo == \"Exp3b\") & (Identity == \"Self\")')\n",
    "\n",
    "df_Exp4a_other = df_im.query('(ExpNo == \"Exp4a\") & (Identity == \"Other\")')\n",
    "df_Exp4a_self = df_im.query('(ExpNo == \"Exp4a\") & (Identity == \"Self\")')\n",
    "\n",
    "\n",
    "df_Exp4b_other = df_im.query('(ExpNo == \"Exp4b\") & (Identity == \"Other\")')\n",
    "df_Exp4b_self = df_im.query('(ExpNo == \"Exp4b\") & (Identity == \"Self\")')"
   ]
  },
  {
   "cell_type": "code",
   "execution_count": 6,
   "metadata": {},
   "outputs": [],
   "source": [
    "y_Exp1a = df_Exp1a[\"Valence\"].values\n",
    "y_Exp1b = df_Exp1b[\"Valence\"].values\n",
    "y_Exp1c = df_Exp1c[\"Valence\"].values\n",
    "y_Exp5_Morality = df_Exp5_Morality[\"Valence\"].values\n",
    "y_Exp5_Emotion = df_Exp5_Emotion[\"Valence\"].values\n",
    "y_Exp5_Person = df_Exp5_Person[\"Valence\"].values\n",
    "y_Exp5_Scene = df_Exp5_Scene[\"Valence\"].values\n",
    "\n",
    "y_Exp3a_other = df_Exp3a_other[\"Valence\"].values\n",
    "y_Exp3a_self = df_Exp3a_self[\"Valence\"].values\n",
    "\n",
    "y_Exp3b_other = df_Exp3b_other[\"Valence\"].values\n",
    "y_Exp3b_self = df_Exp3b_self[\"Valence\"].values\n",
    "\n",
    "y_Exp4a_other = df_Exp4a_other[\"Valence\"].values\n",
    "y_Exp4a_self = df_Exp4a_self[\"Valence\"].values\n",
    "\n",
    "y_Exp4b_other = df_Exp4b_other[\"Valence\"].values\n",
    "y_Exp4b_self = df_Exp4b_self[\"Valence\"].values"
   ]
  },
  {
   "cell_type": "code",
   "execution_count": 7,
   "metadata": {},
   "outputs": [],
   "source": [
    "X_Exp1a = df_Exp1a.iloc[:, 4:7].values\n",
    "X_Exp1b = df_Exp1b.iloc[:, 4:7].values\n",
    "X_Exp1c = df_Exp1c.iloc[:, 4:7].values\n",
    "X_Exp5_Morality = df_Exp5_Morality.iloc[:, 4:7].values\n",
    "X_Exp5_Emotion = df_Exp5_Emotion.iloc[:, 4:7].values\n",
    "X_Exp5_Person = df_Exp5_Person.iloc[:, 4:7].values\n",
    "X_Exp5_Scene = df_Exp5_Scene.iloc[:, 4:7].values\n",
    "\n",
    "X_Exp3a_other = df_Exp3a_other.iloc[:, 4:7].values\n",
    "X_Exp3a_self = df_Exp3a_self.iloc[:, 4:7].values\n",
    "\n",
    "X_Exp3b_other = df_Exp3b_other.iloc[:, 4:7].values\n",
    "X_Exp3b_self = df_Exp3b_self.iloc[:, 4:7].values\n",
    "\n",
    "X_Exp4a_other = df_Exp4a_other.iloc[:, 4:7].values\n",
    "X_Exp4a_self = df_Exp4a_self.iloc[:, 4:7].values\n",
    "\n",
    "X_Exp4b_other = df_Exp4b_other.iloc[:, 4:7].values\n",
    "X_Exp4b_self = df_Exp4b_self.iloc[:, 4:7].values"
   ]
  },
  {
   "cell_type": "code",
   "execution_count": 8,
   "metadata": {},
   "outputs": [],
   "source": [
    "groups_Exp1a = df_Exp1a[\"Subject\"].values\n",
    "groups_Exp1b = df_Exp1b[\"Subject\"].values\n",
    "groups_Exp1c = df_Exp1c[\"Subject\"].values\n",
    "groups_Exp5_Morality = df_Exp5_Morality[\"Subject\"].values\n",
    "groups_Exp5_Emotion = df_Exp5_Emotion[\"Subject\"].values\n",
    "groups_Exp5_Person = df_Exp5_Person[\"Subject\"].values\n",
    "groups_Exp5_Scene = df_Exp5_Scene[\"Subject\"].values\n",
    "\n",
    "groups_Exp3a_other = df_Exp3a_other[\"Subject\"].values\n",
    "groups_Exp3a_self = df_Exp3a_self[\"Subject\"].values\n",
    "\n",
    "groups_Exp3b_other = df_Exp3b_other[\"Subject\"].values\n",
    "groups_Exp3b_self = df_Exp3b_self[\"Subject\"].values\n",
    "\n",
    "groups_Exp4a_other = df_Exp4a_other[\"Subject\"].values\n",
    "groups_Exp4a_self = df_Exp4a_self[\"Subject\"].values\n",
    "\n",
    "\n",
    "groups_Exp4b_other = df_Exp4b_other[\"Subject\"].values\n",
    "groups_Exp4b_self = df_Exp4b_self[\"Subject\"].values"
   ]
  },
  {
   "cell_type": "code",
   "execution_count": 9,
   "metadata": {},
   "outputs": [],
   "source": [
    "names = ['Exp1a', 'Exp1b', 'Exp1c', 'Exp5_Morality', 'Exp5_Emotion', 'Exp5_Person', 'Exp5_Scene', 'Exp3a_other', 'Exp3a_self', 'Exp3b_other', 'Exp3b_self', 'Exp4a_other', 'Exp4a_self', 'Exp4b_other', 'Exp4b_self']\n",
    "names4cross = ['Exp1a', 'Exp1b', 'Exp1c', 'Exp5_Morality', 'Exp5_Emotion', 'Exp5_Person', 'Exp5_Scene', 'Exp3a_other', 'Exp3a_self', 'Exp3b_other', 'Exp3b_self', 'Exp4a_other', 'Exp4a_self', 'Exp4b_other', 'Exp4b_self']\n",
    "features = [X_Exp1a, X_Exp1b, X_Exp1c, X_Exp5_Morality, X_Exp5_Emotion, X_Exp5_Person, X_Exp5_Scene, X_Exp3a_other, X_Exp3a_self, X_Exp3b_other, X_Exp3b_self, X_Exp4a_other, X_Exp4a_self, X_Exp4b_other, X_Exp4b_self]\n",
    "labels= [y_Exp1a,y_Exp1b, y_Exp1c , y_Exp5_Morality, y_Exp5_Emotion, y_Exp5_Person, y_Exp5_Scene, y_Exp3a_other, y_Exp3a_self, y_Exp3b_other, y_Exp3b_self, y_Exp4a_other, y_Exp4a_self, y_Exp4b_other, y_Exp4b_self]\n",
    "groups = [groups_Exp1a, groups_Exp1b, groups_Exp1c,groups_Exp5_Morality, groups_Exp5_Emotion, groups_Exp5_Person, groups_Exp5_Scene, groups_Exp3a_other, groups_Exp3a_self, groups_Exp3b_other, groups_Exp3b_self, groups_Exp4a_other, groups_Exp4a_self, groups_Exp4b_other, groups_Exp4b_self]"
   ]
  },
  {
   "cell_type": "code",
   "execution_count": 10,
   "metadata": {},
   "outputs": [],
   "source": [
    "df_within_score = pd.DataFrame(None, columns=[\"subID\", \"score\", \"source\", \"target\", \"Identity\", \"Condition\"])\n",
    "for i in range(len(names)):\n",
    "    \n",
    "    df_result = dummy_within_task(X=features[i], y=labels[i], group=groups[i], source=names[i])\n",
    "    if np.unique(df_result['source']) in ['Exp1a', 'Exp1b', 'Exp1c', 'Exp5_Morality', 'Exp5_Emotion', 'Exp5_Person', 'Exp5_Scene']:\n",
    "        df_result[\"Condition\"] = \"None\"\n",
    "        df_result[\"Identity\"] = \"None\"\n",
    "    elif np.unique(df_result['source']) in ['Exp3a_other', 'Exp3a_self', 'Exp3b_other', 'Exp3b_self']:\n",
    "        df_result[\"Condition\"] = \"Explicit\"\n",
    "    elif np.unique(df_result['source']) in ['Exp4a_other', 'Exp4a_self', 'Exp4b_other', 'Exp4b_self']:\n",
    "        df_result[\"Condition\"] = \"Implicit\"  \n",
    "\n",
    "    if np.unique(df_result['source']) in ['Exp3a_other', 'Exp3b_other', 'Exp4a_other', 'Exp4b_other']:\n",
    "        df_result[\"Identity\"] = \"Other\"\n",
    "    elif np.unique(df_result['source']) in ['Exp3a_self', 'Exp3b_self', 'Exp4a_self', 'Exp4b_self']:\n",
    "        df_result[\"Identity\"] = \"Self\"\n",
    "    df_within_score = pd.concat([df_within_score, df_result])"
   ]
  },
  {
   "cell_type": "code",
   "execution_count": null,
   "metadata": {},
   "outputs": [],
   "source": [
    "df_cross_score = pd.DataFrame(None, columns=[\"subID\", \"score\", \"source\", \"target\", \"Identity\", \"Condition\"])\n",
    "for i in range(len(names)):\n",
    "    for j in range(len(names4cross)):\n",
    "        if names[i] == names4cross[j]:\n",
    "            pass\n",
    "        else:\n",
    "            df_result = dummy_cross_task2(X_source=features[i], y_source=labels[i], X_target=features[j], y_target=labels[j], source_group=groups[i], target_group=groups[j], source_name=names[i], target_name=names[j])\n",
    "            \n",
    "            if np.unique(df_result['source']) in ['Exp1a', 'Exp1b', 'Exp1c', 'Exp5_Morality', 'Exp5_Emotion', 'Exp5_Person', 'Exp5_Scene']:\n",
    "                df_result[\"Condition1\"] = \"None\"\n",
    "                df_result[\"Identity1\"] = \"None\"\n",
    "            elif np.unique(df_result['source']) in ['Exp3a_other', 'Exp3a_self', 'Exp3b_other', 'Exp3b_self']:\n",
    "                df_result[\"Condition1\"] = \"Explicit\"\n",
    "            elif np.unique(df_result['source']) in ['Exp4a_other', 'Exp4a_self', 'Exp4b_other', 'Exp4b_self']:\n",
    "                df_result[\"Condition1\"] = \"Implicit\"  \n",
    "\n",
    "            if np.unique(df_result['source']) in ['Exp3a_other', 'Exp3b_other', 'Exp4a_other', 'Exp4b_other']:\n",
    "                df_result[\"Identity1\"] = \"Other\"\n",
    "            elif np.unique(df_result['source']) in ['Exp3a_self', 'Exp3b_self', 'Exp4a_self', 'Exp4b_self']:\n",
    "                df_result[\"Identity1\"] = \"Self\"\n",
    "\n",
    "            if np.unique(df_result['target']) in ['Exp1a', 'Exp1b', 'Exp1c', 'Exp5_Morality', 'Exp5_Emotion', 'Exp5_Person', 'Exp5_Scene']:\n",
    "                df_result[\"Condition2\"] = \"None\"\n",
    "                df_result[\"Identity2\"] = \"None\"\n",
    "            elif np.unique(df_result['target']) in ['Exp3a_other', 'Exp3a_self', 'Exp3b_other', 'Exp3b_self']:\n",
    "                df_result[\"Condition2\"] = \"Explicit\"\n",
    "            elif np.unique(df_result['target']) in ['Exp4a_other', 'Exp4a_self', 'Exp4b_other', 'Exp4b_self']:\n",
    "                df_result[\"Condition2\"] = \"Implicit\"  \n",
    "\n",
    "            if np.unique(df_result['target']) in ['Exp3a_other', 'Exp3b_other', 'Exp4a_other', 'Exp4b_other']:\n",
    "                df_result[\"Identity2\"] = \"Other\"\n",
    "            elif np.unique(df_result['target']) in ['Exp3a_self', 'Exp3b_self', 'Exp4a_self', 'Exp4b_self']:\n",
    "                df_result[\"Identity2\"] = \"Self\"\n",
    "\n",
    "            df_result[\"Identity\"] = df_result[\"Identity1\"] + \"→\" + df_result[\"Identity2\"]\n",
    "            df_result[\"Condition\"] = df_result[\"Condition1\"] + \"→\" + df_result[\"Condition2\"]\n",
    "            df_result = df_result[[\"subID\", \"score\", \"source\", \"target\", \"Identity\", \"Condition\"]]\n",
    "\n",
    "            df_cross_score = pd.concat([df_cross_score, df_result])"
   ]
  },
  {
   "cell_type": "code",
   "execution_count": null,
   "metadata": {},
   "outputs": [],
   "source": [
    "df_within_score.to_csv(os.path.join(\"../4_Result/\", \"dummywithin_score.csv\"))"
   ]
  },
  {
   "cell_type": "code",
   "execution_count": null,
   "metadata": {},
   "outputs": [],
   "source": [
    "df_cross_score.to_csv(os.path.join(\"../4_Result/\", \"dummycross_score.csv\"))"
   ]
  },
  {
   "cell_type": "code",
   "execution_count": null,
   "metadata": {},
   "outputs": [],
   "source": [
    "!/usr/bin/shutdown"
   ]
  },
  {
   "cell_type": "code",
   "execution_count": null,
   "metadata": {},
   "outputs": [],
   "source": []
  }
 ],
 "metadata": {
  "kernelspec": {
   "display_name": "py38",
   "language": "python",
   "name": "py38"
  },
  "language_info": {
   "codemirror_mode": {
    "name": "ipython",
    "version": 3
   },
   "file_extension": ".py",
   "mimetype": "text/x-python",
   "name": "python",
   "nbconvert_exporter": "python",
   "pygments_lexer": "ipython3",
   "version": "3.8.13"
  }
 },
 "nbformat": 4,
 "nbformat_minor": 4
}

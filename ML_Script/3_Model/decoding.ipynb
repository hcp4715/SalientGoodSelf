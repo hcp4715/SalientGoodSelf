{
 "cells": [
  {
   "cell_type": "code",
   "execution_count": 1,
   "metadata": {},
   "outputs": [],
   "source": [
    "from utils import *\n",
    "import os"
   ]
  },
  {
   "cell_type": "code",
   "execution_count": 2,
   "metadata": {},
   "outputs": [
    {
     "data": {
      "text/plain": [
       "'/root/autodl-tmp/ML_Script/3_Model'"
      ]
     },
     "execution_count": 2,
     "metadata": {},
     "output_type": "execute_result"
    }
   ],
   "source": [
    "os.getcwd()"
   ]
  },
  {
   "cell_type": "code",
   "execution_count": 3,
   "metadata": {},
   "outputs": [],
   "source": [
    "os.chdir(\"../2_Data\")"
   ]
  },
  {
   "cell_type": "code",
   "execution_count": 4,
   "metadata": {},
   "outputs": [],
   "source": [
    "df_no = pd.read_csv(\"No_self.csv\")\n",
    "df_ex = pd.read_csv(\"Explicit_self.csv\")\n",
    "df_im = pd.read_csv(\"Implicit_self.csv\")\n",
    "df_exp5 = pd.read_csv(\"Exp5_all.csv\")"
   ]
  },
  {
   "cell_type": "code",
   "execution_count": 5,
   "metadata": {},
   "outputs": [],
   "source": [
    "df_Exp5_Morality = df_exp5.query('taskType == \"Morality\"')\n",
    "df_Exp5_Emotion = df_exp5.query('taskType == \"Emotion\"')\n",
    "df_Exp5_Person = df_exp5.query('taskType == \"Person\"')\n",
    "df_Exp5_Scene = df_exp5.query('taskType == \"Scene\"')\n",
    "\n",
    "df_ex_other = df_ex.query('Identity == \"Other\"')\n",
    "df_ex_self = df_ex.query('Identity == \"Self\"')\n",
    "df_im_other = df_im.query('Identity == \"Other\"')\n",
    "df_im_self = df_im.query('Identity == \"Self\"')"
   ]
  },
  {
   "cell_type": "code",
   "execution_count": 6,
   "metadata": {},
   "outputs": [],
   "source": [
    "y_no = df_no[\"Valence\"].values\n",
    "y_Exp5_Morality = df_Exp5_Morality[\"Valence\"].values\n",
    "y_Exp5_Emotion = df_Exp5_Emotion[\"Valence\"].values\n",
    "y_Exp5_Person = df_Exp5_Person[\"Valence\"].values\n",
    "y_Exp5_Scene = df_Exp5_Scene[\"Valence\"].values\n",
    "\n",
    "y_ex_other = df_ex_other[\"Valence\"].values\n",
    "y_ex_self = df_ex_self[\"Valence\"].values\n",
    "\n",
    "y_im_other = df_im_other[\"Valence\"].values\n",
    "y_im_self = df_im_self[\"Valence\"].values"
   ]
  },
  {
   "cell_type": "code",
   "execution_count": 7,
   "metadata": {},
   "outputs": [],
   "source": [
    "X_no = df_no.iloc[:, 4:7].values\n",
    "X_Exp5_Morality = df_Exp5_Morality.iloc[:, 4:7].values\n",
    "X_Exp5_Emotion = df_Exp5_Emotion.iloc[:, 4:7].values\n",
    "X_Exp5_Person = df_Exp5_Person.iloc[:, 4:7].values\n",
    "X_Exp5_Scene = df_Exp5_Scene.iloc[:, 4:7].values\n",
    "\n",
    "X_ex_other = df_ex_other.iloc[:, 4:7].values\n",
    "X_ex_self = df_ex_self.iloc[:, 4:7].values\n",
    "\n",
    "X_im_other = df_im_other.iloc[:, 4:7].values\n",
    "X_im_self = df_im_self.iloc[:, 4:7].values"
   ]
  },
  {
   "cell_type": "code",
   "execution_count": 8,
   "metadata": {},
   "outputs": [],
   "source": [
    "groups_no = df_no[\"Subject\"].values\n",
    "groups_Exp5_Morality = df_Exp5_Morality[\"Subject\"].values\n",
    "groups_Exp5_Emotion = df_Exp5_Emotion[\"Subject\"].values\n",
    "groups_Exp5_Person = df_Exp5_Person[\"Subject\"].values\n",
    "groups_Exp5_Scene = df_Exp5_Scene[\"Subject\"].values\n",
    "\n",
    "groups_ex_other = df_ex_other[\"Subject\"].values\n",
    "groups_ex_self = df_ex_self[\"Subject\"].values\n",
    "\n",
    "groups_im_other = df_im_other[\"Subject\"].values\n",
    "groups_im_self = df_im_self[\"Subject\"].values"
   ]
  },
  {
   "cell_type": "code",
   "execution_count": 9,
   "metadata": {},
   "outputs": [],
   "source": [
    "names = ['No_Ref', 'Exp5_Morality', 'Exp5_Emotion', 'Exp5_Person', 'Exp5_Scene', 'Explicit_Other', 'Explicit_Self','Implicit_Other', \"Implicit_Self\"]\n",
    "names4cross = ['No_Ref', 'Exp5_Morality', 'Exp5_Emotion', 'Exp5_Person', 'Exp5_Scene', 'Explicit_Other', 'Explicit_Self','Implicit_Other', \"Implicit_Self\"]\n",
    "features = [X_no, X_Exp5_Morality, X_Exp5_Emotion, X_Exp5_Person, X_Exp5_Scene, X_ex_other, X_ex_self, X_im_other, X_im_self]\n",
    "labels= [y_no, y_Exp5_Morality, y_Exp5_Emotion, y_Exp5_Person, y_Exp5_Scene, y_ex_other, y_ex_self, y_im_other, y_im_self]\n",
    "groups = [groups_no, groups_Exp5_Morality, groups_Exp5_Emotion, groups_Exp5_Person, groups_Exp5_Scene, groups_ex_other, groups_ex_self, groups_im_other, groups_im_self]"
   ]
  },
  {
   "cell_type": "code",
   "execution_count": null,
   "metadata": {},
   "outputs": [],
   "source": [
    "df_within_score = pd.DataFrame(None, columns=[\"subID\", \"score\", \"source\", \"target\", \"source_Identity\",\"target_Identity\", \"source_ref\", \"target_ref\"])\n",
    "for i in range(len(names)):\n",
    "    \n",
    "    df_result, _, _ = lr_within_task(X=features[i], y=labels[i], group=groups[i], source=names[i])\n",
    "    if np.unique(df_result['source']) in ['No_Ref', 'Exp5_Morality', 'Exp5_Emotion', 'Exp5_Person', 'Exp5_Scene']:\n",
    "        df_result[\"source_ref\"] = \"None\"\n",
    "        df_result[\"source_Identity\"] = \"None\"\n",
    "    elif np.unique(df_result['source']) in ['Explicit_Other', 'Explicit_Self']:\n",
    "        df_result[\"source_ref\"] = \"Explicit\"\n",
    "    elif np.unique(df_result['source']) in ['Implicit_Other', \"Implicit_Self\"]:\n",
    "        df_result[\"source_ref\"] = \"Implicit\"  \n",
    "\n",
    "    if np.unique(df_result['source']) in ['Explicit_Other', 'Implicit_Other']:\n",
    "        df_result[\"source_Identity\"] = \"Other\"\n",
    "    elif np.unique(df_result['source']) in ['Explicit_Self', \"Implicit_Self\"]:\n",
    "        df_result[\"source_Identity\"] = \"Self\"\n",
    "    df_result[\"target_Identity\"] = df_result.source_Identity\n",
    "    df_result[\"target_ref\"] = df_result.source_ref\n",
    "    df_result = df_result[[\"subID\", \"score\", \"source\", \"target\", \"source_Identity\",\"target_Identity\", \"source_ref\", \"target_ref\"]]\n",
    "    df_within_score = pd.concat([df_within_score, df_result])"
   ]
  },
  {
   "cell_type": "code",
   "execution_count": null,
   "metadata": {},
   "outputs": [],
   "source": [
    "df_within_score.to_csv(os.path.join(\"../4_Result/\", \"within_score.csv\"))"
   ]
  },
  {
   "cell_type": "code",
   "execution_count": null,
   "metadata": {},
   "outputs": [],
   "source": [
    "df_cross_score = pd.DataFrame(None, columns=[\"subID\", \"score\", \"source\", \"target\", \"source_Identity\",\"target_Identity\", \"source_ref\", \"target_ref\"])\n",
    "for i in range(len(names)):\n",
    "    for j in range(len(names4cross)):\n",
    "        if names[i] == names4cross[j]:\n",
    "            pass\n",
    "        else:\n",
    "            df_result,_,_ = lr_cross_task2(X_source=features[i], y_source=labels[i], X_target=features[j], y_target=labels[j], source_group=groups[i], target_group=groups[j], source_name=names[i], target_name=names[j])\n",
    "            \n",
    "            if np.unique(df_result['source']) in ['No_Ref', 'Exp5_Morality', 'Exp5_Emotion', 'Exp5_Person', 'Exp5_Scene']:\n",
    "                df_result[\"source_ref\"] = \"None\"\n",
    "                df_result[\"source_Identity\"] = \"None\"\n",
    "            elif np.unique(df_result['source']) in ['Explicit_Other', 'Explicit_Self']:\n",
    "                df_result[\"source_ref\"] = \"Explicit\"\n",
    "            elif np.unique(df_result['source']) in ['Implicit_Other', \"Implicit_Self\"]:\n",
    "                df_result[\"source_ref\"] = \"Implicit\"  \n",
    "\n",
    "            if np.unique(df_result['source']) in ['Explicit_Other', 'Implicit_Other']:\n",
    "                df_result[\"source_Identity\"] = \"Other\"\n",
    "            elif np.unique(df_result['source']) in ['Explicit_Self', \"Implicit_Self\"]:\n",
    "                df_result[\"source_Identity\"] = \"Self\"\n",
    "\n",
    "            if np.unique(df_result['target']) in ['No_Ref', 'Exp5_Morality', 'Exp5_Emotion', 'Exp5_Person', 'Exp5_Scene']:\n",
    "                df_result[\"target_ref\"] = \"None\"\n",
    "                df_result[\"target_Identity\"] = \"None\"\n",
    "            elif np.unique(df_result['target']) in ['Explicit_Other', 'Explicit_Self']:\n",
    "                df_result[\"target_ref\"] = \"Explicit\"\n",
    "            elif np.unique(df_result['target']) in ['Implicit_Other', \"Implicit_Self\"]:\n",
    "                df_result[\"target_ref\"] = \"Implicit\"  \n",
    "\n",
    "            if np.unique(df_result['target']) in ['Explicit_Other', 'Implicit_Other']:\n",
    "                df_result[\"target_Identity\"] = \"Other\"\n",
    "            elif np.unique(df_result['target']) in ['Explicit_Self', \"Implicit_Self\"]:\n",
    "                df_result[\"target_Identity\"] = \"Self\"\n",
    "\n",
    "            df_result = df_result[[\"subID\", \"score\", \"source\", \"target\", \"source_Identity\",\"target_Identity\", \"source_ref\", \"target_ref\"]]\n",
    "\n",
    "            df_cross_score = pd.concat([df_cross_score, df_result])"
   ]
  },
  {
   "cell_type": "code",
   "execution_count": null,
   "metadata": {},
   "outputs": [],
   "source": [
    "df_cross_score.to_csv(os.path.join(\"../4_Result/\", \"cross_score.csv\"))"
   ]
  },
  {
   "cell_type": "code",
   "execution_count": null,
   "metadata": {},
   "outputs": [],
   "source": [
    "!/usr/bin/shutdown"
   ]
  }
 ],
 "metadata": {
  "kernelspec": {
   "display_name": "py38",
   "language": "python",
   "name": "py38"
  },
  "language_info": {
   "codemirror_mode": {
    "name": "ipython",
    "version": 3
   },
   "file_extension": ".py",
   "mimetype": "text/x-python",
   "name": "python",
   "nbconvert_exporter": "python",
   "pygments_lexer": "ipython3",
   "version": "3.8.13"
  }
 },
 "nbformat": 4,
 "nbformat_minor": 4
}
